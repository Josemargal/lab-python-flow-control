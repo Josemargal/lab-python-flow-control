{
 "cells": [
  {
   "cell_type": "markdown",
   "id": "d3bfc191-8885-42ee-b0a0-bbab867c6f9f",
   "metadata": {
    "tags": []
   },
   "source": [
    "# Lab | Flow Control"
   ]
  },
  {
   "cell_type": "markdown",
   "id": "3851fcd1-cf98-4653-9c89-e003b7ec9400",
   "metadata": {},
   "source": [
    "## Exercise: Managing Customer Orders Optimized\n",
    "\n",
    "In the last lab, you were starting an online store that sells various products. To ensure smooth operations, you developed a program that manages customer orders and inventory.\n",
    "\n",
    "You did so without using flow control. Let's go a step further and improve this code.\n",
    "\n",
    "Follow the steps below to complete the exercise:\n",
    "\n",
    "1. Look at your code from the lab data structures, and improve repeated code with loops.\n",
    "\n",
    "2. Instead of asking the user to input the name of three products that a customer wants to order, do the following:\n",
    "    \n",
    "    a. Prompt the user to enter the name of a product that a customer wants to order.\n",
    "    \n",
    "    b. Add the product name to the \"customer_orders\" set.\n",
    "    \n",
    "    c. Ask the user if they want to add another product (yes/no).\n",
    "    \n",
    "    d. Continue the loop until the user does not want to add another product.\n",
    "\n",
    "3. Instead of updating the inventory by subtracting 1 from the quantity of each product, only do it for  the products that were ordered (those in \"customer_orders\")."
   ]
  },
  {
   "cell_type": "code",
   "execution_count": 1,
   "id": "832904a9",
   "metadata": {},
   "outputs": [],
   "source": [
    "# Step 1: Define a list of products\n",
    "products = [\"t-shirt\", \"mug\", \"hat\", \"book\", \"keychain\"]"
   ]
  },
  {
   "cell_type": "code",
   "execution_count": 2,
   "id": "77e7caa6",
   "metadata": {},
   "outputs": [],
   "source": [
    "# Step 2: Create an empty dictionary for inventory\n",
    "inventory = {}"
   ]
  },
  {
   "cell_type": "code",
   "execution_count": 3,
   "id": "b4a040e1",
   "metadata": {},
   "outputs": [],
   "source": [
    "# Step 3: Ask the user to input the quantity of each product available in the inventory\n",
    "for product in products:\n",
    "    quantity = int(input(f\"Introduce la cantidad disponible para {product}: \"))\n",
    "    inventory[product] = quantity"
   ]
  },
  {
   "cell_type": "code",
   "execution_count": 4,
   "id": "37b7e621",
   "metadata": {},
   "outputs": [],
   "source": [
    "# Step 4: Create an empty set for customer orders\n",
    "customer_orders = set()"
   ]
  },
  {
   "cell_type": "code",
   "execution_count": 5,
   "id": "ad05cdb2",
   "metadata": {},
   "outputs": [
    {
     "name": "stdout",
     "output_type": "stream",
     "text": [
      "Pedido realizado\n"
     ]
    }
   ],
   "source": [
    "# Step 5: Ask the user to input the name of three products they want to order\n",
    "while True:\n",
    "    order = input(\"Introduce el nombre de un producto que quieres ordenar (elige de t-shirt, mug, hat, book, keychain): \").strip().lower()\n",
    "    if order in products:\n",
    "        customer_orders.add(order)\n",
    "    else:\n",
    "        print(\"Producto no válido, intenta de nuevo.\")\n",
    "    continuar = input(\"Desea añadir otro producto? (si/no): \").strip().lower()\n",
    "    if continuar != \"si\":\n",
    "        print(\"Pedido realizado\")\n",
    "        break"
   ]
  },
  {
   "cell_type": "code",
   "execution_count": 6,
   "id": "828eca08",
   "metadata": {},
   "outputs": [
    {
     "name": "stdout",
     "output_type": "stream",
     "text": [
      "Productos ordenados por el cliente: {'book', 'hat'}\n"
     ]
    }
   ],
   "source": [
    "# Step 6: Print the products in the customer_orders set\n",
    "print(\"Productos ordenados por el cliente:\", customer_orders)"
   ]
  },
  {
   "cell_type": "code",
   "execution_count": 7,
   "id": "10135ead",
   "metadata": {},
   "outputs": [],
   "source": [
    "# Step 7: Calculate order statistics\n",
    "total_products_ordered = len(customer_orders)\n",
    "total_available_products = sum(inventory.values())\n",
    "percentage_ordered = (total_products_ordered / total_available_products) * 100 if total_available_products > 0 else 0\n",
    "order_status = (total_products_ordered, percentage_ordered)"
   ]
  },
  {
   "cell_type": "code",
   "execution_count": 8,
   "id": "1ca2092a",
   "metadata": {},
   "outputs": [
    {
     "name": "stdout",
     "output_type": "stream",
     "text": [
      "Estadísticas del pedido:\n",
      "Total de productos ordenados: 2\n",
      "Porcentaje de productos ordenados: 8.00%\n"
     ]
    }
   ],
   "source": [
    "# Step 8: Print the order statistics\n",
    "print(\n",
    "    f\"Estadísticas del pedido:\\n\"\n",
    "    f\"Total de productos ordenados: {order_status[0]}\\n\"\n",
    "    f\"Porcentaje de productos ordenados: {order_status[1]:.2f}%\"\n",
    ")"
   ]
  },
  {
   "cell_type": "code",
   "execution_count": 9,
   "id": "dd676e81",
   "metadata": {},
   "outputs": [
    {
     "name": "stdout",
     "output_type": "stream",
     "text": [
      "Cantidad de productos antes de actualizar el inventario: {'t-shirt': 5, 'mug': 5, 'hat': 5, 'book': 5, 'keychain': 5}\n",
      "Actualizando la cantidad de book: 4\n",
      "Actualizando la cantidad de hat: 4\n",
      "Cantidad de productos después de actualizar el inventario: {'t-shirt': 5, 'mug': 5, 'hat': 4, 'book': 4, 'keychain': 5}\n"
     ]
    }
   ],
   "source": [
    "# Step 9: Update the inventory by subtracting 1 from the quantity of each ordered product\n",
    "print(\"Cantidad de productos antes de actualizar el inventario:\", inventory)\n",
    "for product in customer_orders:\n",
    "    if product in inventory and inventory[product] > 0:\n",
    "        inventory[product] -= 1\n",
    "        print(f\"Actualizando la cantidad de {product}: {inventory[product]}\")  # Debug print\n",
    "print(\"Cantidad de productos después de actualizar el inventario:\", inventory)"
   ]
  },
  {
   "cell_type": "code",
   "execution_count": 10,
   "id": "d38f3a6c",
   "metadata": {},
   "outputs": [
    {
     "name": "stdout",
     "output_type": "stream",
     "text": [
      "Inventario actualizado:\n",
      "t-shirt: 5\n",
      "mug: 5\n",
      "hat: 4\n",
      "book: 4\n",
      "keychain: 5\n"
     ]
    }
   ],
   "source": [
    "# Step 10: Print the updated inventory\n",
    "print(\"Inventario actualizado:\")\n",
    "for product, quantity in inventory.items():\n",
    "    print(f\"{product}: {quantity}\")"
   ]
  }
 ],
 "metadata": {
  "kernelspec": {
   "display_name": "Python 3 (ipykernel)",
   "language": "python",
   "name": "python3"
  },
  "language_info": {
   "codemirror_mode": {
    "name": "ipython",
    "version": 3
   },
   "file_extension": ".py",
   "mimetype": "text/x-python",
   "name": "python",
   "nbconvert_exporter": "python",
   "pygments_lexer": "ipython3",
   "version": "3.12.5"
  }
 },
 "nbformat": 4,
 "nbformat_minor": 5
}
